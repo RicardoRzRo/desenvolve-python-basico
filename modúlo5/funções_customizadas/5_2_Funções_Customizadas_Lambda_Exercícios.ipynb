{
  "cells": [
    {
      "cell_type": "markdown",
      "id": "cbdff5a5",
      "metadata": {
        "id": "cbdff5a5"
      },
      "source": [
        "# Módulo 5 - Funções\n",
        "\n",
        "## Aulas 5.2 - Funções Customizadas e 5.4 Funções ```lambda```"
      ]
    },
    {
      "cell_type": "markdown",
      "id": "28a3fee2",
      "metadata": {
        "id": "28a3fee2"
      },
      "source": [
        "### Q1.\n",
        "\n",
        "- Sabendo que o código a seguir calcula o fatorial de n, escreva uma função chamada ```fatorial()``` que recebe um inteiro ```n``` como parâmetro e retorna o resultado do fatorial de ```n```.\n",
        "- No programa principal, peça ao usuário o valor de ```n```, chame a sua função e imprima o retorno.\n",
        "\n",
        "```python\n",
        "fat = 1\n",
        "for i in range(1, n+1):\n",
        "    fat *= i\n",
        "```"
      ]
    },
    {
      "cell_type": "code",
      "execution_count": 7,
      "id": "d126b3a5",
      "metadata": {
        "id": "d126b3a5"
      },
      "outputs": [],
      "source": [
        "## Crie aqui a função fatorial()\n",
        "## lembre-se de executar a célula para que\n",
        "## a função passe a existir e possa ser chamada\n",
        "def fatorial(n):\n",
        "  fat = 1\n",
        "  for i in range(1, n+1):\n",
        "    fat *= i\n",
        "  return fat"
      ]
    },
    {
      "cell_type": "code",
      "execution_count": 13,
      "id": "6e4fe64e",
      "metadata": {
        "colab": {
          "base_uri": "https://localhost:8080/"
        },
        "id": "6e4fe64e",
        "outputId": "f0d05baa-6836-492b-b55a-f00b693e3a48"
      },
      "outputs": [
        {
          "output_type": "stream",
          "name": "stdout",
          "text": [
            "Insira o número para calcular o fatorial: 7\n",
            "5040\n"
          ]
        }
      ],
      "source": [
        "## Escreva aqui o programa principal e execute a célula\n",
        "n = int(input(\"Insira o número para calcular o fatorial: \"))\n",
        "\n",
        "print(fatorial(n))"
      ]
    },
    {
      "cell_type": "markdown",
      "id": "c0a1f599",
      "metadata": {
        "id": "c0a1f599"
      },
      "source": [
        "### Q2.\n",
        "\n",
        "- Escreva uma função em Python chamada ```soma_quadrados``` que recebe dois números como parâmetros e retorna a soma dos seus quadrados.\n",
        "- No programa principal solicite ao usuário que insira dois números e utilize a função para exibir a soma dos quadrados."
      ]
    },
    {
      "cell_type": "code",
      "execution_count": 29,
      "id": "6dbddaad",
      "metadata": {
        "id": "6dbddaad"
      },
      "outputs": [],
      "source": [
        "## Crie aqui a função soma_quadrados()\n",
        "def soma_quadrados(n1, n2):\n",
        "  return ((n1 ** 2) + (n2 ** 2))"
      ]
    },
    {
      "cell_type": "code",
      "execution_count": 56,
      "id": "9175a7da",
      "metadata": {
        "colab": {
          "base_uri": "https://localhost:8080/"
        },
        "id": "9175a7da",
        "outputId": "6c0ec71d-21ae-4879-a6fd-3853c526de46"
      },
      "outputs": [
        {
          "output_type": "stream",
          "name": "stdout",
          "text": [
            "Insira o primeiro número da soma: 2.5\n",
            "Insira o segundo número da soma: 3\n",
            "15.25\n"
          ]
        }
      ],
      "source": [
        "## Escreva aqui o programa principal e execute a célula\n",
        "n1 = float(input(\"Insira o primeiro número da soma: \"))\n",
        "n2 = float(input(\"Insira o segundo número da soma: \"))\n",
        "\n",
        "print(soma_quadrados(n1, n2))"
      ]
    },
    {
      "cell_type": "markdown",
      "id": "6ba34ce0",
      "metadata": {
        "id": "6ba34ce0"
      },
      "source": [
        "### Q3.\n",
        "\n",
        "- Crie uma função em Python chamada ```soma_digitos``` que recebe um número inteiro como parâmetro e retorna a soma dos seus dígitos. Por exemplo, para o número 123, a função deve retornar 6, $(1 + 2 + 3)$.\n",
        "    - O desafio aqui é separar os dígitos de um número inteiro usando operações aritméticas <br> <br>\n",
        "\n",
        "- No programa principal solicite ao usuário que insira um número e utilize a função ```soma_digitos``` para calcular e exibir a soma dos seus dígitos."
      ]
    },
    {
      "cell_type": "code",
      "execution_count": 54,
      "id": "34838ebf",
      "metadata": {
        "id": "34838ebf"
      },
      "outputs": [],
      "source": [
        "## Crie aqui a função soma_digitos()\n",
        "def soma_digitos(n):\n",
        "  soma = valor = 0\n",
        "  casas = int(len(str(n)))\n",
        "  print(f\"O número {n} tem {casas} casas decimais.\")\n",
        "  for i in range(1, casas+1):\n",
        "    valor = (n // (10 ** (casas-i)))\n",
        "    n -= (valor * (10 ** (casas-i)))\n",
        "    soma += valor\n",
        "  return soma\n"
      ]
    },
    {
      "cell_type": "code",
      "execution_count": 55,
      "id": "27c35b21",
      "metadata": {
        "colab": {
          "base_uri": "https://localhost:8080/"
        },
        "id": "27c35b21",
        "outputId": "bdfc784f-2490-4bdd-8ea6-3cefc42353b4"
      },
      "outputs": [
        {
          "output_type": "stream",
          "name": "stdout",
          "text": [
            "Insira o número para calcular a soma dos digitos: 123456789\n",
            "O número 123456789 tem 9 casas decimais.\n",
            "45\n"
          ]
        }
      ],
      "source": [
        "## Escreva aqui o programa principal e execute a célula\n",
        "n = int(input(\"Insira o número para calcular a soma dos digitos: \"))\n",
        "\n",
        "print(soma_digitos(n))"
      ]
    },
    {
      "cell_type": "markdown",
      "id": "c318b159",
      "metadata": {
        "id": "c318b159"
      },
      "source": [
        "### Q4.\n",
        "\n",
        "- Crie a função ```inverteValor()``` que recebe um inteiro de qualquer tamanho e retorna esse valor invertido usando apenas operações aritméticas\n",
        "- Crie a função ```verificaInverso()``` que recebe o valor original e o valor invertido e retorna verdadeiro se ambos forem igualmente par ou igualmente ímpar. Retorne falso caso contrário.\n",
        "- No programa principal, peça um valor do usuário e imprima o retorno de ambas as funções.\n"
      ]
    },
    {
      "cell_type": "code",
      "execution_count": 65,
      "id": "e4e47d1d",
      "metadata": {
        "id": "e4e47d1d"
      },
      "outputs": [],
      "source": [
        "## Crie aqui as funções inverteValor() e verificaInverso()\n",
        "def inverteValor(n):\n",
        "  inverter = valor = 0\n",
        "  casas = int(len(str(n)))\n",
        "  print(f\"O número {n} tem {casas} casas decimais.\")\n",
        "  for i in range(0, casas):\n",
        "    valor = (n // (10 ** (casas-i-1)))\n",
        "    n -= (valor * (10 ** (casas-i-1)))\n",
        "    inverter += (valor * (10 ** i))\n",
        "  return inverter"
      ]
    },
    {
      "cell_type": "code",
      "execution_count": 68,
      "id": "a9514e56",
      "metadata": {
        "colab": {
          "base_uri": "https://localhost:8080/"
        },
        "id": "a9514e56",
        "outputId": "48c22c42-8f70-475c-e468-83d5f4ed5253"
      },
      "outputs": [
        {
          "output_type": "stream",
          "name": "stdout",
          "text": [
            "Insira o número para inverter: 123456789101112131415\n",
            "O número 123456789101112131415 tem 21 casas decimais.\n",
            "514131211101987654321\n"
          ]
        }
      ],
      "source": [
        "## Escreva aqui o programa principal e execute a célula\n",
        "n = int(input(\"Insira o número para inverter: \"))\n",
        "\n",
        "print(inverteValor(n))"
      ]
    },
    {
      "cell_type": "markdown",
      "id": "329be966",
      "metadata": {
        "id": "329be966"
      },
      "source": [
        "### Q5.\n",
        "\n",
        "Você está desenvolvendo um programa para auxiliar em cálculos de geometria básica. Crie as seguintes funções:\n",
        "- A função ```calcula_perimetro_triangulo()``` que recebe três inteiros correspondentes aos lados de um triângulo e retorna o perímetro do triângulo, ou seja, a soma dos seus lados.\n",
        "- A função ```calcula_perimetro_circulo()``` que recebe um inteiro referente ao raio do círculo e retorna o perímetro do círculo, dado por $2 \\pi r$. Use a constante $\\pi$ da biblioteca ```math```.\n",
        "- A função ```calcula_perimetro_retangulo()``` que possui um parâmetro obrigatório ```lado1``` e um opcional ```lado2```, ambos inteiros. Se o valor opcional não for fornecido, significa que se trata de um quadrado. Sua função deve calcular e retornar o perímetro do retângulo, ou seja, a soma de seus lados.\n",
        "    - Para o quadrado, é dado por $4 \\times lado1$\n",
        "    - Para o retângulo é dado por $2 \\times lado1 + 2 \\times lado2$\n",
        "    \n",
        "- No programa principal apresente um menu com as opções disponíveis do seu sistema e uma quarta opção ```Sair```. Solicite ao usuário a opção desejada, solicite as entradas correspondentes à opção escolhida, invoque a respective função e apresente o seu retorno. Seu programa deve retornar ao menu até que o usuário escolha a opção ```Sair```\n",
        "\n",
        "Exemplo de interação:\n",
        "```\n",
        "1 - Calcular perímetro triângulo\n",
        "2 - Calcular perímetro círculo\n",
        "3 - Calcular perímetro retângulo\n",
        "4 - Sair\n",
        "\n",
        "Opção: 1\n",
        "Digite os três lados do triângulo:\n",
        "3\n",
        "4\n",
        "5\n",
        "O perímetro é: 12\n",
        "\n",
        "1 - Calcular perímetro triângulo\n",
        "2 - Calcular perímetro círculo\n",
        "3 - Calcular perímetro retângulo\n",
        "4 - Sair\n",
        "\n",
        "Opção: 3\n",
        "Informe os dois lados do retângulo. Se for um quadrado, digite 0 para o segundo valor:\n",
        "5\n",
        "0\n",
        "O perímetro é: 20\n",
        "\n",
        "1 - Calcular perímetro triângulo\n",
        "2 - Calcular perímetro círculo\n",
        "3 - Calcular perímetro retângulo\n",
        "4 - Sair\n",
        "\n",
        "Opção: 4\n",
        "```"
      ]
    },
    {
      "cell_type": "code",
      "execution_count": 85,
      "id": "0793d328",
      "metadata": {
        "id": "0793d328"
      },
      "outputs": [],
      "source": [
        "## Crie aqui as funções\n",
        "import math\n",
        "\n",
        "def calcula_perimetro_triangulo(l1, l2, l3):\n",
        "  return (l1 + l2 + l3)\n",
        "\n",
        "def calcula_perimetro_circulo(r):\n",
        "  return (2 * math.pi * r)\n",
        "\n",
        "def calcula_perimetro_retangulo(lado1, lado2):\n",
        "  if (lado2 != 0):\n",
        "    return ((2 * lado1) + (2 * lado2))\n",
        "  else:\n",
        "    return (4 * lado1)"
      ]
    },
    {
      "cell_type": "code",
      "execution_count": 91,
      "id": "36269c71",
      "metadata": {
        "colab": {
          "base_uri": "https://localhost:8080/"
        },
        "id": "36269c71",
        "outputId": "20c38527-cf32-48b6-9374-da3d4df345a3"
      },
      "outputs": [
        {
          "output_type": "stream",
          "name": "stdout",
          "text": [
            "1 - Calcular perímetro triângulo\n",
            "2 - Calcular perímetro círculo\n",
            "3 - Calcular perímetro retângulo\n",
            "4 - Sair\n",
            "4\n",
            "\n",
            "Opção: 4\n",
            "Encerrando\n"
          ]
        }
      ],
      "source": [
        "## Escreva aqui o programa principal\n",
        "while (True):\n",
        "  print(\"1 - Calcular perímetro triângulo\")\n",
        "  print(\"2 - Calcular perímetro círculo\")\n",
        "  print(\"3 - Calcular perímetro retângulo\")\n",
        "  print(\"4 - Sair\")\n",
        "  op = int(input())\n",
        "\n",
        "  print()\n",
        "  print(f\"Opção: {op}\")\n",
        "\n",
        "  if(op == 1):\n",
        "    print(\"Digite os três lados do triângulo: \")\n",
        "    l1, l2, l3 = int(input()), int(input()), int(input())\n",
        "    print(f\"O perímetro é: {calcula_perimetro_triangulo(l1, l2, l3)}\")\n",
        "  elif(op == 2):\n",
        "    print(\"Digite o raio do círculo: \")\n",
        "    r = int(input())\n",
        "    print(f\"O perímetro é: {calcula_perimetro_circulo(r)}\")\n",
        "  elif(op == 3):\n",
        "    print(\"Informe os dois lados do retângulo. Se for um quadrado, digite 0 para o segundo valor: \")\n",
        "    lado1, lado2 = int(input()), int(input())\n",
        "    print(f\"O perímetro é: {calcula_perimetro_retangulo(lado1, lado2)}\")\n",
        "  elif(op == 4):\n",
        "    print(\"Encerrando\")\n",
        "    break\n",
        "  else:\n",
        "    print(\"Opção inválida\")\n",
        "\n",
        "  print()"
      ]
    },
    {
      "cell_type": "markdown",
      "id": "3016bcc7",
      "metadata": {
        "id": "3016bcc7"
      },
      "source": [
        "## Funções ```lambda```"
      ]
    },
    {
      "cell_type": "markdown",
      "id": "f9cdb8dd",
      "metadata": {
        "id": "f9cdb8dd"
      },
      "source": [
        "### Q6.\n",
        "\n",
        "Crie uma função lambda para verificar se um número é par ou ímpar. Em seguida, solicite ao usuário um número indefinidos de valores (até que o usuário digite 0). Para cada valor de entrada, informe se é par ou ímpar.\n",
        "\n",
        "Exemplo de interação:\n",
        "```\n",
        "Digite os valores que deseja verificar a paridade (digite 0 para finalizar a entrada de dados):\n",
        "3\n",
        "ímpar\n",
        "8\n",
        "par\n",
        "12\n",
        "par\n",
        "5\n",
        "ímpar\n",
        "7ímpar\n",
        "```"
      ]
    },
    {
      "cell_type": "code",
      "execution_count": 94,
      "id": "e3c31a78",
      "metadata": {
        "colab": {
          "base_uri": "https://localhost:8080/"
        },
        "id": "e3c31a78",
        "outputId": "45714126-7966-4a81-fb8e-46d7301f75fc"
      },
      "outputs": [
        {
          "name": "stdout",
          "output_type": "stream",
          "text": [
            "Digite os valores que deseja verificar a paridade (digite 0 para finalizar a entrada de dados): 2\n",
            "par\n",
            "Digite os valores que deseja verificar a paridade (digite 0 para finalizar a entrada de dados): 1\n",
            "ímpar\n",
            "Digite os valores que deseja verificar a paridade (digite 0 para finalizar a entrada de dados): 0\n"
          ]
        }
      ],
      "source": [
        "while (True):\n",
        "  n = int(input(\"Digite os valores que deseja verificar a paridade (digite 0 para finalizar a entrada de dados): \"))\n",
        "  if (n == 0):\n",
        "    break\n",
        "  print(\"ímpar\" if ((lambda n: (n % 2 != 0))(n)) else \"par\")"
      ]
    },
    {
      "cell_type": "markdown",
      "id": "5a87474d",
      "metadata": {
        "id": "5a87474d"
      },
      "source": [
        "### Q7.\n",
        "\n",
        "Escreva um programa que pergunte ao usuário qual operação ele deseja: maior ou menor.\n",
        "Em seguida leia uma quantidade indefinida de valores do usuário, até que o usuário digite o valor zero.\n",
        "Apresente ao final o maior ou menor dos valores digitados de acordo com a escolha do usuário.\n",
        "\n",
        "**Sua solução deve incluir pelo menos uma função ```lambda```**\n",
        "\n",
        "Exemplo de interação:\n",
        "```\n",
        "Opções: (1) maior ou (2) menor?\n",
        "Opção: 1\n",
        "\n",
        "Digite os valores de entrada. Digite 0 para finalizar a entrada de valores.\n",
        "4\n",
        "12\n",
        "15\n",
        "1\n",
        "0\n",
        "\n",
        "O maior valor é: 15\n",
        "```"
      ]
    },
    {
      "cell_type": "code",
      "execution_count": 113,
      "id": "ee3f68ca",
      "metadata": {
        "colab": {
          "base_uri": "https://localhost:8080/",
          "height": 389
        },
        "id": "ee3f68ca",
        "outputId": "562381ec-990f-4523-ce21-0bd24edf13a1"
      },
      "outputs": [
        {
          "output_type": "error",
          "ename": "KeyboardInterrupt",
          "evalue": "Interrupted by user",
          "traceback": [
            "\u001b[0;31m---------------------------------------------------------------------------\u001b[0m",
            "\u001b[0;31mKeyboardInterrupt\u001b[0m                         Traceback (most recent call last)",
            "\u001b[0;32m/tmp/ipython-input-993094965.py\u001b[0m in \u001b[0;36m<cell line: 0>\u001b[0;34m()\u001b[0m\n\u001b[1;32m      1\u001b[0m \u001b[0;31m## Escreva aqui o programa principal\u001b[0m\u001b[0;34m\u001b[0m\u001b[0;34m\u001b[0m\u001b[0m\n\u001b[0;32m----> 2\u001b[0;31m \u001b[0mop\u001b[0m \u001b[0;34m=\u001b[0m \u001b[0mint\u001b[0m\u001b[0;34m(\u001b[0m\u001b[0minput\u001b[0m\u001b[0;34m(\u001b[0m\u001b[0;34m\"Opções: (1) maior ou (2) menor? \"\u001b[0m\u001b[0;34m)\u001b[0m\u001b[0;34m)\u001b[0m\u001b[0;34m\u001b[0m\u001b[0;34m\u001b[0m\u001b[0m\n\u001b[0m\u001b[1;32m      3\u001b[0m \u001b[0mprint\u001b[0m\u001b[0;34m(\u001b[0m\u001b[0;34mf\"Opção: {op}\"\u001b[0m\u001b[0;34m,\u001b[0m \u001b[0;34m\"\\n\"\u001b[0m\u001b[0;34m)\u001b[0m\u001b[0;34m\u001b[0m\u001b[0;34m\u001b[0m\u001b[0m\n\u001b[1;32m      4\u001b[0m \u001b[0;34m\u001b[0m\u001b[0m\n\u001b[1;32m      5\u001b[0m \u001b[0;32mif\u001b[0m \u001b[0;34m(\u001b[0m\u001b[0;34m(\u001b[0m\u001b[0;34m(\u001b[0m\u001b[0mop\u001b[0m \u001b[0;34m==\u001b[0m \u001b[0;36m1\u001b[0m\u001b[0;34m)\u001b[0m \u001b[0;32mor\u001b[0m \u001b[0;34m(\u001b[0m\u001b[0mop\u001b[0m \u001b[0;34m==\u001b[0m \u001b[0;36m2\u001b[0m\u001b[0;34m)\u001b[0m\u001b[0;34m)\u001b[0m\u001b[0;34m)\u001b[0m\u001b[0;34m:\u001b[0m\u001b[0;34m\u001b[0m\u001b[0;34m\u001b[0m\u001b[0m\n",
            "\u001b[0;32m/usr/local/lib/python3.12/dist-packages/ipykernel/kernelbase.py\u001b[0m in \u001b[0;36mraw_input\u001b[0;34m(self, prompt)\u001b[0m\n\u001b[1;32m   1175\u001b[0m                 \u001b[0;34m\"raw_input was called, but this frontend does not support input requests.\"\u001b[0m\u001b[0;34m\u001b[0m\u001b[0;34m\u001b[0m\u001b[0m\n\u001b[1;32m   1176\u001b[0m             )\n\u001b[0;32m-> 1177\u001b[0;31m         return self._input_request(\n\u001b[0m\u001b[1;32m   1178\u001b[0m             \u001b[0mstr\u001b[0m\u001b[0;34m(\u001b[0m\u001b[0mprompt\u001b[0m\u001b[0;34m)\u001b[0m\u001b[0;34m,\u001b[0m\u001b[0;34m\u001b[0m\u001b[0;34m\u001b[0m\u001b[0m\n\u001b[1;32m   1179\u001b[0m             \u001b[0mself\u001b[0m\u001b[0;34m.\u001b[0m\u001b[0m_parent_ident\u001b[0m\u001b[0;34m[\u001b[0m\u001b[0;34m\"shell\"\u001b[0m\u001b[0;34m]\u001b[0m\u001b[0;34m,\u001b[0m\u001b[0;34m\u001b[0m\u001b[0;34m\u001b[0m\u001b[0m\n",
            "\u001b[0;32m/usr/local/lib/python3.12/dist-packages/ipykernel/kernelbase.py\u001b[0m in \u001b[0;36m_input_request\u001b[0;34m(self, prompt, ident, parent, password)\u001b[0m\n\u001b[1;32m   1217\u001b[0m             \u001b[0;32mexcept\u001b[0m \u001b[0mKeyboardInterrupt\u001b[0m\u001b[0;34m:\u001b[0m\u001b[0;34m\u001b[0m\u001b[0;34m\u001b[0m\u001b[0m\n\u001b[1;32m   1218\u001b[0m                 \u001b[0;31m# re-raise KeyboardInterrupt, to truncate traceback\u001b[0m\u001b[0;34m\u001b[0m\u001b[0;34m\u001b[0m\u001b[0m\n\u001b[0;32m-> 1219\u001b[0;31m                 \u001b[0;32mraise\u001b[0m \u001b[0mKeyboardInterrupt\u001b[0m\u001b[0;34m(\u001b[0m\u001b[0;34m\"Interrupted by user\"\u001b[0m\u001b[0;34m)\u001b[0m \u001b[0;32mfrom\u001b[0m \u001b[0;32mNone\u001b[0m\u001b[0;34m\u001b[0m\u001b[0;34m\u001b[0m\u001b[0m\n\u001b[0m\u001b[1;32m   1220\u001b[0m             \u001b[0;32mexcept\u001b[0m \u001b[0mException\u001b[0m\u001b[0;34m:\u001b[0m\u001b[0;34m\u001b[0m\u001b[0;34m\u001b[0m\u001b[0m\n\u001b[1;32m   1221\u001b[0m                 \u001b[0mself\u001b[0m\u001b[0;34m.\u001b[0m\u001b[0mlog\u001b[0m\u001b[0;34m.\u001b[0m\u001b[0mwarning\u001b[0m\u001b[0;34m(\u001b[0m\u001b[0;34m\"Invalid Message:\"\u001b[0m\u001b[0;34m,\u001b[0m \u001b[0mexc_info\u001b[0m\u001b[0;34m=\u001b[0m\u001b[0;32mTrue\u001b[0m\u001b[0;34m)\u001b[0m\u001b[0;34m\u001b[0m\u001b[0;34m\u001b[0m\u001b[0m\n",
            "\u001b[0;31mKeyboardInterrupt\u001b[0m: Interrupted by user"
          ]
        }
      ],
      "source": [
        "## Escreva aqui o programa principal\n",
        "op = int(input(\"Opções: (1) maior ou (2) menor? \"))\n",
        "print(f\"Opção: {op}\", \"\\n\")\n",
        "\n",
        "if (((op == 1) or (op == 2))):\n",
        "  n = int(input(\"Digite os valores de entrada (digite 0 para finalizar a entrada de valores):\"))\n",
        "  resultado = n\n",
        "\n",
        "while (True):\n",
        "  if ((n == 0) or ((op != 1) and (op != 2))):\n",
        "    break\n",
        "  n = int(input(\"Digite os valores de entrada (digite 0 para finalizar a entrada de valores):\"))\n",
        "  resultado = (n if ((lambda n: (n > resultado))(n)) else resultado) if (op == 1) else ((n if ((lambda n: (n < resultado))(n)) else resultado) if (op == 2) else resultado)\n",
        "print((f\"O maior valor é: {resultado}\") if (op == 1) else (((f\"O menor valor é: {resultado}\") if (op == 2) else (\"A opção é inválida\"))))"
      ]
    }
  ],
  "metadata": {
    "kernelspec": {
      "display_name": "Python 3 (ipykernel)",
      "language": "python",
      "name": "python3"
    },
    "language_info": {
      "codemirror_mode": {
        "name": "ipython",
        "version": 3
      },
      "file_extension": ".py",
      "mimetype": "text/x-python",
      "name": "python",
      "nbconvert_exporter": "python",
      "pygments_lexer": "ipython3",
      "version": "3.9.6"
    },
    "colab": {
      "provenance": []
    }
  },
  "nbformat": 4,
  "nbformat_minor": 5
}