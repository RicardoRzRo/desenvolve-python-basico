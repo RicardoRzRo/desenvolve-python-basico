{
  "cells": [
    {
      "cell_type": "markdown",
      "id": "29e89030",
      "metadata": {
        "id": "29e89030"
      },
      "source": [
        "# Módulo 4 - Repetições\n",
        "\n",
        "## Aulas 4.2 - Comando ```for``` e 4.3 Break e Continue"
      ]
    },
    {
      "cell_type": "markdown",
      "id": "a45b42df",
      "metadata": {
        "id": "a45b42df"
      },
      "source": [
        "### Q1.\n",
        "\n",
        "Crie um programa em Python que utilize o comando for para imprimir os números de 10 a 1, em ordem decrescente."
      ]
    },
    {
      "cell_type": "code",
      "execution_count": null,
      "id": "55a75b3d",
      "metadata": {
        "colab": {
          "base_uri": "https://localhost:8080/"
        },
        "id": "55a75b3d",
        "outputId": "e114cc84-0bd8-43b7-926c-e592ae86063d"
      },
      "outputs": [
        {
          "output_type": "stream",
          "name": "stdout",
          "text": [
            "10\n",
            "9\n",
            "8\n",
            "7\n",
            "6\n",
            "5\n",
            "4\n",
            "3\n",
            "2\n",
            "1\n"
          ]
        }
      ],
      "source": [
        "## Escreva e execute seu código aqui\n",
        "for i in range(10):\n",
        "  print(10-i)"
      ]
    },
    {
      "cell_type": "markdown",
      "id": "94b47c36",
      "metadata": {
        "id": "94b47c36"
      },
      "source": [
        "### Q2.\n",
        "\n",
        "Dado um número inteiro positivo informado pelo usuário, crie um programa em Python que utilize o comando for para calcular e exibir a soma dos números de 1 até o número informado. Ou seja, $1 + 2 + 3 + ... + n$\n",
        "\n",
        "Exemplo de interação:\n",
        "```\n",
        "Digite um número: 5\n",
        "A soma dos números de 1 a 5 é 15\n",
        "```\n"
      ]
    },
    {
      "cell_type": "code",
      "execution_count": null,
      "id": "45b71596",
      "metadata": {
        "colab": {
          "base_uri": "https://localhost:8080/"
        },
        "id": "45b71596",
        "outputId": "f69c5bf1-6949-4bc0-d491-b2a3c00f35f7"
      },
      "outputs": [
        {
          "output_type": "stream",
          "name": "stdout",
          "text": [
            "Digite um número: 10000\n",
            "A soma dos números de 1 a 10000 é 50005000\n"
          ]
        }
      ],
      "source": [
        "## Escreva e execute seu código aqui\n",
        "n = int(input(\"Digite um número: \"))\n",
        "soma = 0\n",
        "for i in range(1, n+1):\n",
        "  soma += i\n",
        "print(f\"A soma dos números de 1 a {n} é {soma}\")"
      ]
    },
    {
      "cell_type": "markdown",
      "id": "0411d170",
      "metadata": {
        "id": "0411d170"
      },
      "source": [
        "### Q3.\n",
        "\n",
        "Escreva um programa que lê 10 valores inteiros positivos do usuário e ao final imprime a média dos valores digitados com duas casas decimais.\n",
        "\n",
        "```\n",
        "Digite 10 números positivos:\n",
        "3\n",
        "2\n",
        "12\n",
        "14\n",
        "20\n",
        "42\n",
        "19\n",
        "0\n",
        "8\n",
        "1\n",
        "A média dos valores digitados é 12.10\n",
        "```"
      ]
    },
    {
      "cell_type": "code",
      "execution_count": null,
      "id": "3f72f358",
      "metadata": {
        "colab": {
          "base_uri": "https://localhost:8080/"
        },
        "id": "3f72f358",
        "outputId": "ced82506-bb4d-4dd8-f2b5-7eaf5aaf99c9"
      },
      "outputs": [
        {
          "output_type": "stream",
          "name": "stdout",
          "text": [
            "Digite 10 números positivos:\n",
            "1\n",
            "2\n",
            "3\n",
            "4\n",
            "5\n",
            "6\n",
            "7\n",
            "8\n",
            "9\n",
            "10\n",
            "A média dos valores digitados é 5.50\n"
          ]
        }
      ],
      "source": [
        "## Escreva e execute seu código aqui\n",
        "media = 0\n",
        "print(\"Digite 10 números positivos:\")\n",
        "for i in range(10):\n",
        "  n = int(input())\n",
        "  media += n\n",
        "media /= 10\n",
        "print(f\"A média dos valores digitados é {media:.2f}\")"
      ]
    },
    {
      "cell_type": "markdown",
      "id": "d62e27ff",
      "metadata": {
        "id": "d62e27ff"
      },
      "source": [
        "### Q4.\n",
        "\n",
        "Você vai criar um sistema que registra os resultados dos jogos do Atlético MG ao longo de um campeonato. Seu sistema vai receber os resultados de todos os jogos do Galo, e deve calcular a pontuação do time sabendo que vitórias valem 3 pontos, empates 1 ponto e derrotas 0 pontos.\n",
        "\n",
        "Entrada: <br>\n",
        "A primeira linha de entrada é um inteiro N com a quantidade jogos do galo. Para cada jogo você deve ler 2 inteiros, o primeiro com a quantidade de gols do galo e o segundo com a quantidade de gols do time oponente.\n",
        "\n",
        "Saída: <br>\n",
        "Apresente a soma de vitórias, empates e derrotas do galo, junto com o cálculo da pontuação total.\n",
        "\n",
        "Ex:\n",
        "```\n",
        "Entrada:\n",
        "4\n",
        "2\n",
        "0\n",
        "1\n",
        "1\n",
        "0\n",
        "3\n",
        "1\n",
        "0\n",
        "\n",
        "Saída:\n",
        "Vitórias: 2\n",
        "Empates: 1\n",
        "Derrotas: 1\n",
        "Pontuação: 7\n",
        "\n",
        "```\n",
        "\n",
        "\n"
      ]
    },
    {
      "cell_type": "code",
      "execution_count": null,
      "id": "d3fdfc2a",
      "metadata": {
        "colab": {
          "base_uri": "https://localhost:8080/"
        },
        "id": "d3fdfc2a",
        "outputId": "1849a041-029d-4d8e-806e-53f8a94883c8"
      },
      "outputs": [
        {
          "output_type": "stream",
          "name": "stdout",
          "text": [
            "Digite o número de jogos: 5\n",
            "Digite a quantidade de gols do galo: 10\n",
            "Digite a quantidade de gols do adversário: 0\n",
            "Digite a quantidade de gols do galo: 5\n",
            "Digite a quantidade de gols do adversário: 5\n",
            "Digite a quantidade de gols do galo: 5\n",
            "Digite a quantidade de gols do adversário: 5\n",
            "Digite a quantidade de gols do galo: 5\n",
            "Digite a quantidade de gols do adversário: 5\n",
            "Digite a quantidade de gols do galo: 0\n",
            "Digite a quantidade de gols do adversário: 9\n",
            "Vítorias: 1\n",
            "Empates: 3\n",
            "Derrotas: 1\n",
            "Pontuação: 6\n"
          ]
        }
      ],
      "source": [
        "## Escreva e execute seu código aqui\n",
        "n = int(input(\"Digite o número de jogos: \"))\n",
        "\n",
        "vitorias = empates = derrotas = pontuacao = 0\n",
        "\n",
        "for i in range(0, n):\n",
        "  gg = int(input(\"Digite a quantidade de gols do galo: \"))\n",
        "  ga = int(input(\"Digite a quantidade de gols do adversário: \"))\n",
        "  if(gg > ga):\n",
        "    vitorias += 1\n",
        "    pontuacao += 3\n",
        "  elif(gg == ga):\n",
        "    empates += 1\n",
        "    pontuacao += 1\n",
        "  else:\n",
        "    derrotas += 1\n",
        "print(f\"Vítorias: {vitorias}\")\n",
        "print(f\"Empates: {empates}\")\n",
        "print(f\"Derrotas: {derrotas}\")\n",
        "print(f\"Pontuação: {pontuacao}\")"
      ]
    },
    {
      "cell_type": "markdown",
      "id": "fc98604d",
      "metadata": {
        "id": "fc98604d"
      },
      "source": [
        "### Q5.\n",
        "\n",
        "Faça um programa que lê dois inteiros N e M, e imprime na tela um campo de batalha naval. O tabuleiro deve possuir N linhas e M colunas. A primeira linha é composta por um espaço em branco e o cabeçalho das colunas, ou seja, valores de 1 a M. As N linhas seguintes iniciam com o cabeçalho da linha, ou seja, seu número, seguido de M caracteres \"/\" (barra) indicando uma possível posição jogável.\n",
        "\n",
        "```\n",
        "Entrada:\n",
        "5\n",
        "4\n",
        "\n",
        "Saída:\n",
        "  1 2 3 4\n",
        "1 / / / /\n",
        "2 / / / /\n",
        "3 / / / /\n",
        "4 / / / /\n",
        "5 / / / /\n",
        "```\n",
        "\n",
        "Para esse exercício, precisamos lembrar que o comando print implicitamente adiciona uma quebra de linha ao final da impressão. Podemos interferir no final da impressão adicionando mais uma entrada ao print. No exemplo, finalizamos cada linha com um espaço em branco:\n",
        "```python\n",
        "print(\"Texto qualquer\", end = \" \")\n",
        "```"
      ]
    },
    {
      "cell_type": "code",
      "execution_count": 3,
      "id": "a60ef197",
      "metadata": {
        "colab": {
          "base_uri": "https://localhost:8080/"
        },
        "id": "a60ef197",
        "outputId": "f7744f3c-feb5-4364-d14a-9c612dfcb56b"
      },
      "outputs": [
        {
          "output_type": "stream",
          "name": "stdout",
          "text": [
            "Digite o número de linhas: 2\n",
            "Digite o número de colunas: 2\n",
            "    1 2\n",
            "  1 / /\n",
            "  2 / /\n"
          ]
        }
      ],
      "source": [
        "## Escreva e execute seu código aqui\n",
        "n = int(input(\"Digite o número de linhas: \"))\n",
        "m = int(input(\"Digite o número de colunas: \"))\n",
        "\n",
        "# Cabeçalho\n",
        "print(\"   \", end=\"\")\n",
        "for j in range(1, m+1):\n",
        "    print(f\"{j:2}\", end=\"\")\n",
        "print()\n",
        "\n",
        "# Linhas com numeração\n",
        "for i in range(1, n+1):\n",
        "    print(f\"{i:3}\", end=\"\")   # numeração da linha\n",
        "    for j in range(1, m+1):\n",
        "        print(\" /\", end=\"\")  # conteúdo da célula\n",
        "    print()  # quebra de linha\n"
      ]
    },
    {
      "cell_type": "markdown",
      "id": "4654dc0b",
      "metadata": {
        "id": "4654dc0b"
      },
      "source": [
        "---\n",
        "## Break e Continue"
      ]
    },
    {
      "cell_type": "markdown",
      "id": "24fe9d85",
      "metadata": {
        "id": "24fe9d85"
      },
      "source": [
        "### Q6.\n",
        "\n",
        "Escreva um programa que lê uma quantidade indefinida de valores e informa o maior e o menor valor digitados. A leitura é encerrada quando o usuário digitar o valor 0 (zero).\n",
        "\n",
        "```\n",
        "Entrada:\n",
        "12\n",
        "-1\n",
        "29\n",
        "11\n",
        "-5\n",
        "0\n",
        "\n",
        "Saída:\n",
        "Maior: 29\n",
        "Menor: -5\n",
        "```"
      ]
    },
    {
      "cell_type": "code",
      "execution_count": 5,
      "id": "ee1c466a",
      "metadata": {
        "id": "ee1c466a",
        "colab": {
          "base_uri": "https://localhost:8080/"
        },
        "outputId": "161dff79-de15-446f-8f2e-8604177f7cd9"
      },
      "outputs": [
        {
          "output_type": "stream",
          "name": "stdout",
          "text": [
            "Digite um número: 27\n",
            "Digite um número: 19819\n",
            "Digite um número: -510\n",
            "Digite um número: 016\n",
            "Digite um número: 0\n",
            "Maior: 19819\n",
            "Menor: -510\n"
          ]
        }
      ],
      "source": [
        "## Escreva e execute seu código aqui\n",
        "n = int(input(\"Digite um número: \"))\n",
        "maior = n\n",
        "menor = n\n",
        "\n",
        "while True:\n",
        "  n = int(input(\"Digite um número (0 para parar): \"))\n",
        "  if (n == 0):\n",
        "    break\n",
        "  if (n > maior):\n",
        "    maior = n\n",
        "  if (n < menor):\n",
        "    menor = n\n",
        "print(f\"Maior: {maior}\")\n",
        "print(f\"Menor: {menor}\")"
      ]
    },
    {
      "cell_type": "markdown",
      "id": "30d486f7",
      "metadata": {
        "id": "30d486f7"
      },
      "source": [
        "### Q7.\n",
        "\n",
        "Escreva um programa que lê uma quantidade indefinida de valores e informa o **produto** dos valores positivos digitados. A leitura é encerrada quando o usuário digitar o valor 0 (zero).\n",
        "\n",
        "```\n",
        "Entrada:\n",
        "2\n",
        "-1\n",
        "1\n",
        "3\n",
        "-5\n",
        "0\n",
        "\n",
        "Saída:\n",
        "Produto: 6\n",
        "```"
      ]
    },
    {
      "cell_type": "code",
      "execution_count": 8,
      "id": "2f1ac324",
      "metadata": {
        "id": "2f1ac324",
        "colab": {
          "base_uri": "https://localhost:8080/"
        },
        "outputId": "47bdf6d2-e0d6-446e-d362-49ce9c9b8295"
      },
      "outputs": [
        {
          "output_type": "stream",
          "name": "stdout",
          "text": [
            "Digite um número: 2\n",
            "Digite um número (0 para parar): 3\n",
            "Digite um número (0 para parar): 8\n",
            "Digite um número (0 para parar): -451\n",
            "Digite um número (0 para parar): -2\n",
            "Digite um número (0 para parar): 0\n",
            "Produto: 48\n"
          ]
        }
      ],
      "source": [
        "## Escreva e execute seu código aqui\n",
        "n = int(input(\"Digite um número: \"))\n",
        "produto = n\n",
        "\n",
        "while True:\n",
        "  n = int(input(\"Digite um número (0 para parar): \"))\n",
        "  if (n == 0):\n",
        "    break\n",
        "  if (n > 0):\n",
        "    produto = produto * n\n",
        "print(f\"Produto: {produto}\")"
      ]
    },
    {
      "cell_type": "markdown",
      "id": "e932f3cf",
      "metadata": {
        "id": "e932f3cf"
      },
      "source": [
        "### Q8.\n",
        "\n",
        "Vamos fazer uma calculadora que aceita expressões aritméticas de qualquer tamanho até que o usuário digite a palavra \"Fim\". Sua calculadora executa apenas as operações \"+\", \"-\".\n",
        "\n",
        "```\n",
        "Entrada:\n",
        "5\n",
        "+\n",
        "8\n",
        "-\n",
        "3\n",
        "+\n",
        "2\n",
        "Fim\n",
        "\n",
        "Saída:\n",
        "12\n",
        "```"
      ]
    },
    {
      "cell_type": "code",
      "execution_count": 12,
      "id": "e835d870",
      "metadata": {
        "id": "e835d870",
        "colab": {
          "base_uri": "https://localhost:8080/"
        },
        "outputId": "0e55f4ce-2f34-47c9-9c3e-1173628421f7"
      },
      "outputs": [
        {
          "output_type": "stream",
          "name": "stdout",
          "text": [
            "Digite a operção (+, - ou Fim): +\n",
            "Digite o operando: 10\n",
            "Digite a operção (+, - ou Fim): +\n",
            "Digite o operando: 17\n",
            "Digite a operção (+, - ou Fim): -\n",
            "Digite o operando: 15\n",
            "Digite a operção (+, - ou Fim): Fim\n",
            "12\n"
          ]
        }
      ],
      "source": [
        "## Escreva e execute seu código aqui\n",
        "resultado = 0\n",
        "\n",
        "while True:\n",
        "  op = input(\"Digite a operção (+, - ou Fim): \")\n",
        "  if (op == \"Fim\"):\n",
        "    break\n",
        "  n = int(input(\"Digite o operando: \"))\n",
        "  if (op == \"+\"):\n",
        "    resultado += n\n",
        "  elif (op == \"-\"):\n",
        "    resultado -= n\n",
        "print(f\"{resultado}\")"
      ]
    }
  ],
  "metadata": {
    "kernelspec": {
      "display_name": "Python 3 (ipykernel)",
      "language": "python",
      "name": "python3"
    },
    "language_info": {
      "codemirror_mode": {
        "name": "ipython",
        "version": 3
      },
      "file_extension": ".py",
      "mimetype": "text/x-python",
      "name": "python",
      "nbconvert_exporter": "python",
      "pygments_lexer": "ipython3",
      "version": "3.9.6"
    },
    "colab": {
      "provenance": []
    }
  },
  "nbformat": 4,
  "nbformat_minor": 5
}